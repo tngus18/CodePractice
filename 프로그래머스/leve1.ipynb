{
 "cells": [
  {
   "cell_type": "code",
   "execution_count": 23,
   "metadata": {},
   "outputs": [],
   "source": [
    "a = 5\n",
    "b = 3\n",
    "def solution (a,b):\n",
    "    if a < b:\n",
    "        return sum(range(a,b+1))\n",
    "    else : \n",
    "        return sum(range(b,a+1))"
   ]
  },
  {
   "cell_type": "code",
   "execution_count": 24,
   "metadata": {},
   "outputs": [
    {
     "data": {
      "text/plain": [
       "12"
      ]
     },
     "execution_count": 24,
     "metadata": {},
     "output_type": "execute_result"
    }
   ],
   "source": [
    "solution(a,b)"
   ]
  },
  {
   "cell_type": "code",
   "execution_count": 29,
   "metadata": {},
   "outputs": [],
   "source": [
    "my_string = 'i have a boyfriend'\n",
    "def solution(my_string):\n",
    "    ahdma = ['a','e','i','o','u']\n",
    "    for i in ahdma:\n",
    "        my_string = my_string.replace(i,'')\n",
    "    return my_string"
   ]
  },
  {
   "cell_type": "code",
   "execution_count": 30,
   "metadata": {},
   "outputs": [
    {
     "data": {
      "text/plain": [
       "' hv  byfrnd'"
      ]
     },
     "execution_count": 30,
     "metadata": {},
     "output_type": "execute_result"
    }
   ],
   "source": [
    "solution(my_string)"
   ]
  },
  {
   "cell_type": "code",
   "execution_count": 36,
   "metadata": {},
   "outputs": [
    {
     "data": {
      "text/plain": [
       "6"
      ]
     },
     "execution_count": 36,
     "metadata": {},
     "output_type": "execute_result"
    }
   ],
   "source": [
    "hp = 26\n",
    "def solution (hp):\n",
    "    a = hp // 5\n",
    "    b = (hp - (a*5))//3\n",
    "    c = (hp - (a*5))% 3\n",
    "    return a + b + c\n",
    "solution(hp)"
   ]
  },
  {
   "cell_type": "code",
   "execution_count": 50,
   "metadata": {},
   "outputs": [],
   "source": [
    "cipher = 'dfjardstddetckdaccccdegk'\n",
    "code = 4\n",
    "def solution(cipher, code):\n",
    "    answer = ''\n",
    "    for i in range(code, len(cipher)+1):\n",
    "        if i%code == 0:\n",
    "            print( i )\n",
    "            answer += cipher[i-1]\n",
    "    return answer"
   ]
  },
  {
   "cell_type": "code",
   "execution_count": 51,
   "metadata": {},
   "outputs": [
    {
     "name": "stdout",
     "output_type": "stream",
     "text": [
      "4\n",
      "8\n",
      "12\n",
      "16\n",
      "20\n",
      "24\n"
     ]
    },
    {
     "data": {
      "text/plain": [
       "'attack'"
      ]
     },
     "execution_count": 51,
     "metadata": {},
     "output_type": "execute_result"
    }
   ],
   "source": [
    "solution(cipher, code)"
   ]
  },
  {
   "cell_type": "code",
   "execution_count": 56,
   "metadata": {},
   "outputs": [],
   "source": [
    "my_string = 'cccCCC'\n",
    "def solution(my_string):\n",
    "    answer = ''\n",
    "    for i in my_string:\n",
    "        if i.isupper():\n",
    "            answer += i.lower()\n",
    "        else:\n",
    "            answer += i.upper()\n",
    "    return answer"
   ]
  },
  {
   "cell_type": "code",
   "execution_count": 57,
   "metadata": {},
   "outputs": [
    {
     "data": {
      "text/plain": [
       "'CCCccc'"
      ]
     },
     "execution_count": 57,
     "metadata": {},
     "output_type": "execute_result"
    }
   ],
   "source": [
    "solution(my_string)"
   ]
  },
  {
   "cell_type": "code",
   "execution_count": 64,
   "metadata": {},
   "outputs": [
    {
     "data": {
      "text/plain": [
       "'052'"
      ]
     },
     "execution_count": 64,
     "metadata": {},
     "output_type": "execute_result"
    }
   ],
   "source": [
    "rsp = '205'\n",
    "def solution(rsp):\n",
    "    answer = ''\n",
    "    for i in rsp:\n",
    "        if i == '2':\n",
    "            answer += '0'\n",
    "        elif i == '5':\n",
    "            answer += '2'\n",
    "        else :\n",
    "            answer += '5'\n",
    "    return answer\n",
    "solution(rsp)"
   ]
  },
  {
   "attachments": {},
   "cell_type": "markdown",
   "metadata": {},
   "source": [
    "은행에 가서 계좌를 개설하면 은행이름, 예금주, 계좌번호 잔액이 설정됩니다. Account 클래스를 생성한 후 생성자를 구현해보세요. 갱성자에서는 예금주와 초기 잔액만 입력 받습니다. 은행 이름은 SC은행으로 계좌번호는 3-2-6 형태로 랜덤하게 생성됩니다."
   ]
  },
  {
   "cell_type": "code",
   "execution_count": 69,
   "metadata": {},
   "outputs": [
    {
     "name": "stdout",
     "output_type": "stream",
     "text": [
      "김민수\n",
      "100\n",
      "SC은행\n",
      "776-95-158659\n"
     ]
    }
   ],
   "source": [
    "import random\n",
    "\n",
    "class Account : \n",
    "    def __init__(self, name, balance):\n",
    "        self.name = name\n",
    "        self.balance = balance\n",
    "        self.bank = 'SC은행'\n",
    "        num1 = random.randint(0,999)\n",
    "        num2 = random.randint(0,99)\n",
    "        num3 = random.randint(0,999999)\n",
    "\n",
    "        num1 = str(num1).zfill(3) # 1-> '1' -> '001\n",
    "        num2 = str(num2).zfill(2) # 1-> '1' -> '01'\n",
    "        num3 = str(num3).zfill(6) # 1-> '1' -> '0000001'\n",
    "        self.account_number = num1 + '-' + num2 + '-' + num3\n",
    "\n",
    "kim = Account('김민수',100)\n",
    "print(kim.name)\n",
    "print(kim.balance)\n",
    "print(kim.bank)\n",
    "print(kim.account_number)\n"
   ]
  },
  {
   "cell_type": "code",
   "execution_count": 79,
   "metadata": {},
   "outputs": [
    {
     "name": "stdout",
     "output_type": "stream",
     "text": [
      "김민수\n",
      "100\n",
      "SC은행\n",
      "483-85-149453\n",
      "2\n",
      "3\n"
     ]
    }
   ],
   "source": [
    "import random\n",
    "\n",
    "class Account :\n",
    "    account_count = 0\n",
    "    def __init__(self, name, balance):\n",
    "        self.name = name\n",
    "        self.balance = balance\n",
    "        self.bank = 'SC은행'\n",
    "        num1 = random.randint(0,999)\n",
    "        num2 = random.randint(0, 99)\n",
    "        num3 = random.randint(0, 999999)\n",
    "\n",
    "        num1 = str(num1).zfill(3)\n",
    "        num2 = str(num2).zfill(2)\n",
    "        num3 = str(num3).zfill(6)\n",
    "\n",
    "        self.account_number = num1 + '-' + num2 + '-' + num3\n",
    "        Account.account_count += 1\n",
    "\n",
    "kim = Account('김민수', 100)\n",
    "print(kim.name)\n",
    "print(kim.balance)\n",
    "print(kim.bank)\n",
    "print(kim.account_number)\n",
    "\n",
    "\n",
    "kim = Account(\"김민수\", 100)\n",
    "print(Account.account_count)\n",
    "lee = Account(\"이민수\", 100)\n",
    "print(Account.account_count)"
   ]
  },
  {
   "cell_type": "code",
   "execution_count": 81,
   "metadata": {},
   "outputs": [
    {
     "name": "stdout",
     "output_type": "stream",
     "text": [
      "2\n",
      "110\n"
     ]
    }
   ],
   "source": [
    "import random\n",
    "\n",
    "class Account :\n",
    "    account_count = 0\n",
    "    def __init__(self, name, balance):\n",
    "        self.name = name\n",
    "        self.balance = balance\n",
    "        self.bank = 'SC은행'\n",
    "        num1 = random.randint(0,999)\n",
    "        num2 = random.randint(0, 99)\n",
    "        num3 = random.randint(0, 999999)\n",
    "\n",
    "        num1 = str(num1).zfill(3)\n",
    "        num2 = str(num2).zfill(2)\n",
    "        num3 = str(num3).zfill(6)\n",
    "\n",
    "        self.account_number = num1 + '-' + num2 + '-' + num3\n",
    "        Account.account_count += 1\n",
    "\n",
    "\n",
    "    def get_account_num(cls):\n",
    "        print(cls.account_count)     # Account.account_count\n",
    "    \n",
    "    def deposit(self, amount):\n",
    "        if amount >= 1:\n",
    "            self.balance += amount \n",
    "    \n",
    "    def withdraw(self, amount):\n",
    "        if self.balance > amount: \n",
    "            self.balance -= amount\n",
    "\n",
    "kim = Account(\"김민수\", 100)\n",
    "lee = Account(\"이민수\", 100)\n",
    "kim.get_account_num()\n",
    "\n",
    "k=Account('kim', 100)\n",
    "k.deposit(100)\n",
    "k.withdraw(90)\n",
    "print(k.balance)"
   ]
  },
  {
   "cell_type": "code",
   "execution_count": 83,
   "metadata": {},
   "outputs": [
    {
     "name": "stdout",
     "output_type": "stream",
     "text": [
      "310\n"
     ]
    }
   ],
   "source": [
    "import random\n",
    "\n",
    "\n",
    "class Account:\n",
    "    # class variable\n",
    "    account_count = 0\n",
    "\n",
    "    def __init__(self, name, balance):\n",
    "        self.name = name\n",
    "        self.balance = balance\n",
    "        self.bank = \"SC은행\"\n",
    "\n",
    "        # 3-2-6\n",
    "        num1 = random.randint(0, 999)\n",
    "        num2 = random.randint(0, 99)\n",
    "        num3 = random.randint(0, 999999)\n",
    "\n",
    "        num1 = str(num1).zfill(3)  # 1 -> '1' -> '001'\n",
    "        num2 = str(num2).zfill(2)  # 1 -> '1' -> '01'\n",
    "        num3 = str(num3).zfill(6)  # 1 -> '1' -> '0000001'\n",
    "        self.account_number = num1 + '-' + num2 + '-' + num3  # 001-01-000001\n",
    "        Account.account_count += 1\n",
    "\n",
    "    @classmethod\n",
    "    def get_account_num(cls):\n",
    "        print(cls.account_count)  # Account.account_count\n",
    "\n",
    "    def deposit(self, amount):\n",
    "        if amount >= 1:\n",
    "            self.balance += amount\n",
    "\n",
    "    def withdraw(self, amount):\n",
    "        if self.balance > amount:\n",
    "            self.balance -= amount\n",
    "\n",
    "k = Account(\"kim\", 100)\n",
    "k.deposit(300)\n",
    "k.withdraw(90)\n",
    "print(k.balance)"
   ]
  },
  {
   "cell_type": "code",
   "execution_count": 87,
   "metadata": {},
   "outputs": [
    {
     "name": "stdout",
     "output_type": "stream",
     "text": [
      "110\n",
      "은행이름: SC은행\n",
      "예금주: 파이썬\n",
      "계좌번호: 149-91-692932\n",
      "잔고: 10,000\n"
     ]
    }
   ],
   "source": [
    "import random\n",
    "\n",
    "\n",
    "class Account:\n",
    "    # class variable\n",
    "    account_count = 0\n",
    "\n",
    "    def __init__(self, name, balance):\n",
    "        self.name = name\n",
    "        self.balance = balance\n",
    "        self.bank = \"SC은행\"\n",
    "\n",
    "        # 3-2-6\n",
    "        num1 = random.randint(0, 999)\n",
    "        num2 = random.randint(0, 99)\n",
    "        num3 = random.randint(0, 999999)\n",
    "\n",
    "        num1 = str(num1).zfill(3)  # 1 -> '1' -> '001'\n",
    "        num2 = str(num2).zfill(2)  # 1 -> '1' -> '01'\n",
    "        num3 = str(num3).zfill(6)  # 1 -> '1' -> '0000001'\n",
    "        self.account_number = num1 + '-' + num2 + '-' + num3  # 001-01-000001\n",
    "        Account.account_count += 1\n",
    "\n",
    "    @classmethod\n",
    "    def get_account_num(cls):\n",
    "        print(cls.account_count)  # Account.account_count\n",
    "\n",
    "    def deposit(self, amount):\n",
    "        if amount >= 1:\n",
    "            self.balance += amount\n",
    "\n",
    "    def withdraw(self, amount):\n",
    "        if self.balance > amount:\n",
    "            self.balance -= amount\n",
    "    \n",
    "    def display_info(self):\n",
    "        print('은행이름:', self.bank)\n",
    "        print('예금주:', self.name)\n",
    "        print('계좌번호:', self.account_number)\n",
    "        print('잔고:', f\"{self.balance:,}\")\n",
    "\n",
    "k = Account(\"kim\", 100)\n",
    "k.deposit(100)\n",
    "k.withdraw(90)\n",
    "print(k.balance)\n",
    "p = Account('파이썬', 10000)\n",
    "p.display_info()"
   ]
  },
  {
   "cell_type": "code",
   "execution_count": 100,
   "metadata": {},
   "outputs": [
    {
     "data": {
      "text/plain": [
       "229376"
      ]
     },
     "execution_count": 100,
     "metadata": {},
     "output_type": "execute_result"
    }
   ],
   "source": [
    "n = 7\n",
    "t = 15\n",
    "import math\n",
    "def solution(n,t):\n",
    "    return n*(2**(t))\n",
    "solution(n,t)"
   ]
  },
  {
   "cell_type": "code",
   "execution_count": 112,
   "metadata": {},
   "outputs": [],
   "source": [
    "my_string = 'hi12392'\n",
    "def solution(my_string):\n",
    "    answer = []\n",
    "    for i in my_string:\n",
    "        try:\n",
    "            answer.append(int(i))\n",
    "        except:\n",
    "            continue\n",
    "    answer.sort()\n",
    "    return answer"
   ]
  },
  {
   "cell_type": "code",
   "execution_count": 113,
   "metadata": {},
   "outputs": [
    {
     "data": {
      "text/plain": [
       "[1, 2, 2, 3, 9]"
      ]
     },
     "execution_count": 113,
     "metadata": {},
     "output_type": "execute_result"
    }
   ],
   "source": [
    "solution(my_string)"
   ]
  },
  {
   "cell_type": "code",
   "execution_count": 120,
   "metadata": {},
   "outputs": [],
   "source": [
    "box = [10,8,6]\n",
    "n = 3\n",
    "def solution(box,n):\n",
    "    n1 = box[0]//n\n",
    "    n2 = box[1]//n\n",
    "    n3 = box[2]//n\n",
    "    return n1*n2*n3"
   ]
  },
  {
   "cell_type": "code",
   "execution_count": 121,
   "metadata": {},
   "outputs": [
    {
     "data": {
      "text/plain": [
       "12"
      ]
     },
     "execution_count": 121,
     "metadata": {},
     "output_type": "execute_result"
    }
   ],
   "source": [
    "solution(box,n)"
   ]
  },
  {
   "cell_type": "code",
   "execution_count": 117,
   "metadata": {},
   "outputs": [
    {
     "data": {
      "text/plain": [
       "10"
      ]
     },
     "execution_count": 117,
     "metadata": {},
     "output_type": "execute_result"
    }
   ],
   "source": [
    "box = [10,8,6]\n",
    "box[0]"
   ]
  },
  {
   "cell_type": "code",
   "execution_count": 126,
   "metadata": {},
   "outputs": [],
   "source": [
    "n = 3\n",
    "numlist = [4,5,6,7,8,9,10,11,12]\n",
    "def solution(n, numlist):\n",
    "    return ([i for i in numlist if i % n ==0])\n"
   ]
  },
  {
   "cell_type": "code",
   "execution_count": 127,
   "metadata": {},
   "outputs": [
    {
     "data": {
      "text/plain": [
       "[6, 9, 12]"
      ]
     },
     "execution_count": 127,
     "metadata": {},
     "output_type": "execute_result"
    }
   ],
   "source": [
    "solution(n,numlist)"
   ]
  },
  {
   "cell_type": "code",
   "execution_count": 147,
   "metadata": {},
   "outputs": [],
   "source": [
    "numbers = [1,2,-3,4,-5]\n",
    "\n",
    "def solution(numbers):\n",
    "    numbers.sort()\n",
    "    return max(numbers[0]*numbers[1],numbers[-1] * numbers[-2])"
   ]
  },
  {
   "cell_type": "code",
   "execution_count": 148,
   "metadata": {},
   "outputs": [
    {
     "data": {
      "text/plain": [
       "15"
      ]
     },
     "execution_count": 148,
     "metadata": {},
     "output_type": "execute_result"
    }
   ],
   "source": [
    "solution(numbers)"
   ]
  },
  {
   "cell_type": "code",
   "execution_count": 163,
   "metadata": {},
   "outputs": [],
   "source": [
    "my_string = 'hello'\n",
    "num1 = 1\n",
    "num2 = 2\n",
    "def solution(my_string, num1, num2):\n",
    "    answer = ''\n",
    "    my_string = list(my_string)\n",
    "    my_string[num1],my_string[num2]=my_string[num2],my_string[num1]\n",
    "    return answer.join(my_string)\n",
    "\n",
    "    "
   ]
  },
  {
   "cell_type": "code",
   "execution_count": 164,
   "metadata": {},
   "outputs": [
    {
     "data": {
      "text/plain": [
       "'hlelo'"
      ]
     },
     "execution_count": 164,
     "metadata": {},
     "output_type": "execute_result"
    }
   ],
   "source": [
    "solution(my_string, num1, num2)"
   ]
  },
  {
   "cell_type": "code",
   "execution_count": 179,
   "metadata": {},
   "outputs": [],
   "source": [
    "numbers =[1,2,3]\n",
    "direction ='right'\n",
    "def solution(numbers, direction):\n",
    "    answer =[]\n",
    "    if direction == 'right':\n",
    "        answer = numbers[-1:] + numbers[:-1]\n",
    "    elif direction == 'left':\n",
    "        answer = numbers[1:] + numbers[:1]\n",
    "    return answer\n"
   ]
  },
  {
   "cell_type": "code",
   "execution_count": 180,
   "metadata": {},
   "outputs": [
    {
     "data": {
      "text/plain": [
       "[3, 1, 2]"
      ]
     },
     "execution_count": 180,
     "metadata": {},
     "output_type": "execute_result"
    }
   ],
   "source": [
    "solution(numbers, direction)"
   ]
  },
  {
   "cell_type": "code",
   "execution_count": 7,
   "metadata": {},
   "outputs": [
    {
     "data": {
      "text/plain": [
       "[1]"
      ]
     },
     "execution_count": 7,
     "metadata": {},
     "output_type": "execute_result"
    }
   ],
   "source": [
    "# numbers[-1:]+numbers[:-1]\n",
    "numbers[:1]\n",
    "# numbers[1:]"
   ]
  },
  {
   "cell_type": "markdown",
   "metadata": {},
   "source": []
  },
  {
   "cell_type": "code",
   "execution_count": 5,
   "metadata": {},
   "outputs": [
    {
     "data": {
      "text/plain": [
       "[3, 1, 2]"
      ]
     },
     "execution_count": 5,
     "metadata": {},
     "output_type": "execute_result"
    }
   ],
   "source": [
    "numbers = [1,2,3]\n",
    "direction = 'right'\n",
    "\n",
    "def solution(numbers, direction):\n",
    "    answer = []\n",
    "    if direction == 'right':\n",
    "        answer = numbers[-1:] + numbers[:-1]\n",
    "    else:\n",
    "        answer = numbers[:1] + numbers[1:]\n",
    "    return answer\n",
    "solution(numbers, direction)\n"
   ]
  },
  {
   "cell_type": "code",
   "execution_count": 12,
   "metadata": {},
   "outputs": [
    {
     "data": {
      "text/plain": [
       "[6]"
      ]
     },
     "execution_count": 12,
     "metadata": {},
     "output_type": "execute_result"
    }
   ],
   "source": [
    "a = [4, 455, 6, 4, -1, 45, 6]\n",
    "a[-1:]"
   ]
  },
  {
   "cell_type": "code",
   "execution_count": 15,
   "metadata": {},
   "outputs": [
    {
     "data": {
      "text/plain": [
       "'bcff'"
      ]
     },
     "execution_count": 15,
     "metadata": {},
     "output_type": "execute_result"
    }
   ],
   "source": [
    "age = 1255\n",
    "\n",
    "def solution(age):\n",
    "    answer = ''\n",
    "    al = ['a','b','c','d','e','f','g','h','i','j','k','l','m','n','o','p','q','r','s','t','u','v','w','x','y','z']\n",
    "    for i in str(age):\n",
    "        answer += al[int(i)]\n",
    "    return answer\n",
    "solution(age)"
   ]
  },
  {
   "cell_type": "code",
   "execution_count": 81,
   "metadata": {},
   "outputs": [
    {
     "data": {
      "text/plain": [
       "[8, 1]"
      ]
     },
     "execution_count": 81,
     "metadata": {},
     "output_type": "execute_result"
    }
   ],
   "source": [
    "array = [1,8,3]\n",
    "def solution(array):\n",
    "    answer = []\n",
    "    a = max(array)\n",
    "    if a:\n",
    "        answer.append(a)\n",
    "        answer.append(array.index(max(array)))\n",
    "    return answer\n",
    "\n",
    "solution(array)"
   ]
  },
  {
   "cell_type": "code",
   "execution_count": 83,
   "metadata": {},
   "outputs": [
    {
     "data": {
      "text/plain": [
       "[9, 1]"
      ]
     },
     "execution_count": 83,
     "metadata": {},
     "output_type": "execute_result"
    }
   ],
   "source": [
    "array = [4,9,8,7]\n",
    "def solution(array):\n",
    "    return[max(array), array.index(max(array))]\n",
    "solution(array)"
   ]
  },
  {
   "cell_type": "code",
   "execution_count": 109,
   "metadata": {},
   "outputs": [
    {
     "data": {
      "text/plain": [
       "1"
      ]
     },
     "execution_count": 109,
     "metadata": {},
     "output_type": "execute_result"
    }
   ],
   "source": [
    "order = 3\n",
    "\n",
    "def solution(order):\n",
    "    answer = 0\n",
    "    order_list = list(map(int,str(order)))\n",
    "    for i in list(map(int,str(order))):\n",
    "        if i == 0:\n",
    "            pass\n",
    "        elif i%3 == 0:\n",
    "            answer += 1\n",
    "    return answer\n",
    "solution(order)"
   ]
  },
  {
   "cell_type": "code",
   "execution_count": 123,
   "metadata": {},
   "outputs": [
    {
     "data": {
      "text/plain": [
       "[1, 29]"
      ]
     },
     "execution_count": 123,
     "metadata": {},
     "output_type": "execute_result"
    }
   ],
   "source": [
    "n = 29\n",
    "def solution(n):\n",
    "    answer = []\n",
    "    for i in range(1,n+1):\n",
    "        if n%i == 0:\n",
    "            answer.append(i)\n",
    "    return answer\n",
    "solution(n)"
   ]
  },
  {
   "cell_type": "code",
   "execution_count": 143,
   "metadata": {},
   "outputs": [
    {
     "data": {
      "text/plain": [
       "-1"
      ]
     },
     "execution_count": 143,
     "metadata": {},
     "output_type": "execute_result"
    }
   ],
   "source": [
    "num = 123\n",
    "k = 2\n",
    "def solution(num,k):\n",
    "    num_list = list(map(int,str(num)))\n",
    "    if k in num_list:\n",
    "        return (num_list.index(k))+1\n",
    "    else:\n",
    "        return -1\n",
    "solution(num,k)"
   ]
  },
  {
   "cell_type": "code",
   "execution_count": 135,
   "metadata": {},
   "outputs": [
    {
     "name": "stdout",
     "output_type": "stream",
     "text": [
      "<map object at 0x0000028F4A24BFA0>\n"
     ]
    }
   ],
   "source": [
    "num_list = map(int,str(num))\n",
    "print(num_list)"
   ]
  },
  {
   "cell_type": "code",
   "execution_count": 146,
   "metadata": {},
   "outputs": [
    {
     "name": "stdout",
     "output_type": "stream",
     "text": [
      "2\n"
     ]
    }
   ],
   "source": [
    "num = 123\n",
    "k = 2\n",
    "a = str(num).index(str(k))+1\n",
    "print(a)"
   ]
  },
  {
   "cell_type": "code",
   "execution_count": 172,
   "metadata": {},
   "outputs": [
    {
     "data": {
      "text/plain": [
       "'abcd'"
      ]
     },
     "execution_count": 172,
     "metadata": {},
     "output_type": "execute_result"
    }
   ],
   "source": [
    "my_string = 'Bcad'\n",
    "def solution(my_string):\n",
    "    answer = ''\n",
    "    a = my_string.lower()\n",
    "    b = sorted(a)\n",
    "    return ''.join(b)\n",
    "solution(my_string)"
   ]
  },
  {
   "cell_type": "code",
   "execution_count": 163,
   "metadata": {},
   "outputs": [
    {
     "name": "stdout",
     "output_type": "stream",
     "text": [
      "['a', 'b', 'c', 'd']\n"
     ]
    }
   ],
   "source": [
    "my_string = 'Bcad'\n",
    "a = my_string.lower()\n",
    "print(sorted(a))"
   ]
  },
  {
   "cell_type": "code",
   "execution_count": 180,
   "metadata": {},
   "outputs": [
    {
     "data": {
      "text/plain": [
       "5"
      ]
     },
     "execution_count": 180,
     "metadata": {},
     "output_type": "execute_result"
    }
   ],
   "source": [
    "n = 10\n",
    "def solution(n):\n",
    "    answer = 0\n",
    "    for i in range(1,n+1):\n",
    "        c = 0\n",
    "        for j in range(1, i+1):\n",
    "            if i%j == 0:\n",
    "                c += 1\n",
    "        if c>=3:\n",
    "            answer +=1\n",
    "    return answer\n",
    "solution(n)"
   ]
  },
  {
   "cell_type": "code",
   "execution_count": null,
   "metadata": {},
   "outputs": [],
   "source": []
  }
 ],
 "metadata": {
  "kernelspec": {
   "display_name": "base",
   "language": "python",
   "name": "python3"
  },
  "language_info": {
   "codemirror_mode": {
    "name": "ipython",
    "version": 3
   },
   "file_extension": ".py",
   "mimetype": "text/x-python",
   "name": "python",
   "nbconvert_exporter": "python",
   "pygments_lexer": "ipython3",
   "version": "3.9.15"
  },
  "orig_nbformat": 4
 },
 "nbformat": 4,
 "nbformat_minor": 2
}
