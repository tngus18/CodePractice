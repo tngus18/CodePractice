{
 "cells": [
  {
   "cell_type": "code",
   "execution_count": 4,
   "metadata": {},
   "outputs": [
    {
     "name": "stdout",
     "output_type": "stream",
     "text": [
      "347\n"
     ]
    }
   ],
   "source": [
    "# 1085. 직사각형에서 탈출\n",
    "x, y, w, h = map(int, input().split())\n",
    "print(min(abs(0-x), abs(0-y), abs(w-x), abs(y-h)))"
   ]
  },
  {
   "cell_type": "code",
   "execution_count": 6,
   "metadata": {},
   "outputs": [
    {
     "name": "stdout",
     "output_type": "stream",
     "text": [
      "0\n",
      "-\n",
      "-\n"
     ]
    }
   ],
   "source": [
    "# 1247. 부호\n",
    "\n",
    "list1 = []\n",
    "list2 = []\n",
    "list3 = []\n",
    "x = int(input())\n",
    "for i in range(x):\n",
    "    list1.append(int(input()))\n",
    "\n",
    "y = int(input())\n",
    "for i in range(y):\n",
    "    list2.append(int(input()))\n",
    "\n",
    "z = int(input())\n",
    "for i in range(z):\n",
    "    list3.append(int(input()))\n",
    "\n",
    "s = []\n",
    "s.append(sum(list1))\n",
    "s.append(sum(list2))\n",
    "s.append(sum(list3))\n",
    "\n",
    "for i in range(3):\n",
    "    if s[i] == 0:\n",
    "        print('0')\n",
    "    elif s[i]>0:\n",
    "        print('+')\n",
    "    else:\n",
    "        print('-')\n",
    "\n",
    "        # => 시간초과 ㅠㅠㅠ\n",
    "\n",
    "import sys\n",
    "input = sys.stdin.readline\n",
    "for _ in range(3):\n",
    "    t = int(input())\n",
    "    hap = 0\n",
    "    for i in range(t):\n",
    "        hap += int(input())\n",
    "    if hap == 0:\n",
    "        print('0')\n",
    "    elif hap >0 :\n",
    "        print('+')\n",
    "    else:\n",
    "        print('-')"
   ]
  },
  {
   "cell_type": "code",
   "execution_count": 7,
   "metadata": {},
   "outputs": [
    {
     "name": "stdout",
     "output_type": "stream",
     "text": [
      "M 45\n"
     ]
    }
   ],
   "source": [
    "# 1267. 핸드폰 요금\n",
    "a = int(input())\n",
    "s = list(map(int, input().split()))\n",
    "y = 0\n",
    "m = 0\n",
    "for i in s:\n",
    "   y += i//30*10 + 10\n",
    "   m += i//60*15 + 15\n",
    "if y<m:\n",
    "   print(\"Y\", y)\n",
    "elif y == m:\n",
    "   print(\"Y M\", m)\n",
    "else : \n",
    "   print(\"M\",m)"
   ]
  },
  {
   "cell_type": "code",
   "execution_count": 17,
   "metadata": {},
   "outputs": [
    {
     "name": "stdout",
     "output_type": "stream",
     "text": [
      "13\n",
      "15\n",
      "14\n"
     ]
    }
   ],
   "source": [
    "# 1284. 집주소\n",
    "while True:\n",
    "    n= input()\n",
    "    if n == '0':\n",
    "        break\n",
    "    n_sum = len(n)+1\n",
    "    for i in n:\n",
    "        if i =='1':\n",
    "            n_sum += 2\n",
    "        elif i == '0':\n",
    "            n_sum += 4\n",
    "        else:\n",
    "            n_sum += 3\n",
    "    print(n_sum)\n"
   ]
  },
  {
   "cell_type": "code",
   "execution_count": 16,
   "metadata": {},
   "outputs": [
    {
     "name": "stdout",
     "output_type": "stream",
     "text": [
      "2\n"
     ]
    }
   ],
   "source": [
    "n = '99'\n",
    "print(len(n))"
   ]
  },
  {
   "cell_type": "code",
   "execution_count": 27,
   "metadata": {},
   "outputs": [
    {
     "name": "stdout",
     "output_type": "stream",
     "text": [
      "2\n"
     ]
    }
   ],
   "source": [
    "# 1547. 공\n",
    "m = int(input())\n",
    "ball=[0,1,2,3]\n",
    "for i in range(m):\n",
    "    x,y = map(int, input().split())\n",
    "    ball[x],ball[y] = ball[y],ball[x]\n",
    "print(ball.index(1))"
   ]
  },
  {
   "cell_type": "code",
   "execution_count": 28,
   "metadata": {},
   "outputs": [
    {
     "name": "stdout",
     "output_type": "stream",
     "text": [
      "8\n"
     ]
    }
   ],
   "source": [
    "# 1598. 꼬리를 무는 숫자 나열\n",
    "a, b = map(int, input().split())\n",
    "a = a-1\n",
    "b = b-1\n",
    "print(abs(a//4-b//4)+abs(a%4-b%4))\n",
    "\n"
   ]
  },
  {
   "cell_type": "code",
   "execution_count": 1,
   "metadata": {},
   "outputs": [
    {
     "ename": "TypeError",
     "evalue": "unsupported operand type(s) for -: 'builtin_function_or_method' and 'int'",
     "output_type": "error",
     "traceback": [
      "\u001b[1;31m---------------------------------------------------------------------------\u001b[0m",
      "\u001b[1;31mTypeError\u001b[0m                                 Traceback (most recent call last)",
      "Cell \u001b[1;32mIn[1], line 7\u001b[0m\n\u001b[0;32m      5\u001b[0m     \u001b[39mbreak\u001b[39;00m\n\u001b[0;32m      6\u001b[0m sum_n \u001b[39m=\u001b[39m \u001b[39msum\u001b[39m(n_list)\n\u001b[1;32m----> 7\u001b[0m \u001b[39mprint\u001b[39m(\u001b[39msum\u001b[39;49m\u001b[39m-\u001b[39;49m\u001b[39m1\u001b[39;49m)\n",
      "\u001b[1;31mTypeError\u001b[0m: unsupported operand type(s) for -: 'builtin_function_or_method' and 'int'"
     ]
    }
   ],
   "source": [
    "# 1703. 생장점\n",
    "while True:\n",
    "    n_list = list(map(int, input().split()))\n",
    "    if n_list == 0:\n",
    "        break\n",
    "    sum_n = sum(n_list)\n",
    "    print(sum-1)"
   ]
  },
  {
   "attachments": {},
   "cell_type": "markdown",
   "metadata": {},
   "source": [
    "ctrl + shift + l => 같은 단어 선택"
   ]
  },
  {
   "cell_type": "code",
   "execution_count": null,
   "metadata": {},
   "outputs": [],
   "source": []
  }
 ],
 "metadata": {
  "kernelspec": {
   "display_name": "ml",
   "language": "python",
   "name": "python3"
  },
  "language_info": {
   "codemirror_mode": {
    "name": "ipython",
    "version": 3
   },
   "file_extension": ".py",
   "mimetype": "text/x-python",
   "name": "python",
   "nbconvert_exporter": "python",
   "pygments_lexer": "ipython3",
   "version": "3.9.15"
  },
  "orig_nbformat": 4
 },
 "nbformat": 4,
 "nbformat_minor": 2
}
