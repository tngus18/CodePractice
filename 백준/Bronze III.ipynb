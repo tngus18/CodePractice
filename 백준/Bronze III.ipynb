{
 "cells": [
  {
   "cell_type": "code",
   "execution_count": 4,
   "metadata": {},
   "outputs": [
    {
     "name": "stdout",
     "output_type": "stream",
     "text": [
      "347\n"
     ]
    }
   ],
   "source": [
    "# 1085. 직사각형에서 탈출\n",
    "x, y, w, h = map(int, input().split())\n",
    "print(min(abs(0-x), abs(0-y), abs(w-x), abs(y-h)))"
   ]
  },
  {
   "cell_type": "code",
   "execution_count": 6,
   "metadata": {},
   "outputs": [
    {
     "name": "stdout",
     "output_type": "stream",
     "text": [
      "0\n",
      "-\n",
      "-\n"
     ]
    }
   ],
   "source": [
    "# 1247. 부호\n",
    "\n",
    "list1 = []\n",
    "list2 = []\n",
    "list3 = []\n",
    "x = int(input())\n",
    "for i in range(x):\n",
    "    list1.append(int(input()))\n",
    "\n",
    "y = int(input())\n",
    "for i in range(y):\n",
    "    list2.append(int(input()))\n",
    "\n",
    "z = int(input())\n",
    "for i in range(z):\n",
    "    list3.append(int(input()))\n",
    "\n",
    "s = []\n",
    "s.append(sum(list1))\n",
    "s.append(sum(list2))\n",
    "s.append(sum(list3))\n",
    "\n",
    "for i in range(3):\n",
    "    if s[i] == 0:\n",
    "        print('0')\n",
    "    elif s[i]>0:\n",
    "        print('+')\n",
    "    else:\n",
    "        print('-')\n",
    "\n",
    "        # => 시간초과 ㅠㅠㅠ\n",
    "\n",
    "import sys\n",
    "input = sys.stdin.readline\n",
    "for _ in range(3):\n",
    "    t = int(input())\n",
    "    hap = 0\n",
    "    for i in range(t):\n",
    "        hap += int(input())\n",
    "    if hap == 0:\n",
    "        print('0')\n",
    "    elif hap >0 :\n",
    "        print('+')\n",
    "    else:\n",
    "        print('-')"
   ]
  },
  {
   "cell_type": "code",
   "execution_count": 7,
   "metadata": {},
   "outputs": [
    {
     "name": "stdout",
     "output_type": "stream",
     "text": [
      "M 45\n"
     ]
    }
   ],
   "source": [
    "# 1267. 핸드폰 요금\n",
    "a = int(input())\n",
    "s = list(map(int, input().split()))\n",
    "y = 0\n",
    "m = 0\n",
    "for i in s:\n",
    "   y += i//30*10 + 10\n",
    "   m += i//60*15 + 15\n",
    "if y<m:\n",
    "   print(\"Y\", y)\n",
    "elif y == m:\n",
    "   print(\"Y M\", m)\n",
    "else : \n",
    "   print(\"M\",m)"
   ]
  },
  {
   "cell_type": "code",
   "execution_count": null,
   "metadata": {},
   "outputs": [],
   "source": []
  }
 ],
 "metadata": {
  "kernelspec": {
   "display_name": "ml",
   "language": "python",
   "name": "python3"
  },
  "language_info": {
   "codemirror_mode": {
    "name": "ipython",
    "version": 3
   },
   "file_extension": ".py",
   "mimetype": "text/x-python",
   "name": "python",
   "nbconvert_exporter": "python",
   "pygments_lexer": "ipython3",
   "version": "3.9.15"
  },
  "orig_nbformat": 4
 },
 "nbformat": 4,
 "nbformat_minor": 2
}
