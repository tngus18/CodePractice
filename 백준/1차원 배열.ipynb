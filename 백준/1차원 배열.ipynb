{
 "cells": [
  {
   "cell_type": "code",
   "execution_count": 1,
   "metadata": {},
   "outputs": [
    {
     "name": "stdout",
     "output_type": "stream",
     "text": [
      "1\n"
     ]
    }
   ],
   "source": [
    "# 10807. 개수 세기\n",
    "t = int(input())\n",
    "a_list = list(map(int, input().split()))\n",
    "v = int(input())\n",
    "\n",
    "print(a_list.count(v))"
   ]
  },
  {
   "cell_type": "code",
   "execution_count": 7,
   "metadata": {},
   "outputs": [
    {
     "name": "stdout",
     "output_type": "stream",
     "text": [
      "1 4 2 3 "
     ]
    }
   ],
   "source": [
    "# 10871. X보다 작은 수\n",
    "a ,b = map(int, input().split())\n",
    "n_list = list(map(int, input().split()))\n",
    "for i in range(a):\n",
    "    if n_list[i] < b:\n",
    "        print(n_list[i], end=' ')"
   ]
  },
  {
   "cell_type": "code",
   "execution_count": 9,
   "metadata": {},
   "outputs": [
    {
     "name": "stdout",
     "output_type": "stream",
     "text": [
      "7 35 "
     ]
    }
   ],
   "source": [
    "# 10818. 최소, 최대\n",
    "n = int(input())\n",
    "n_list = list(map(int, input().split()))\n",
    "print(min(n_list), max(n_list), end=' ')"
   ]
  },
  {
   "cell_type": "code",
   "execution_count": 11,
   "metadata": {},
   "outputs": [
    {
     "name": "stdout",
     "output_type": "stream",
     "text": [
      "132\n"
     ]
    },
    {
     "ename": "ValueError",
     "evalue": "133 is not in list",
     "output_type": "error",
     "traceback": [
      "\u001b[1;31m---------------------------------------------------------------------------\u001b[0m",
      "\u001b[1;31mValueError\u001b[0m                                Traceback (most recent call last)",
      "Cell \u001b[1;32mIn[11], line 8\u001b[0m\n\u001b[0;32m      5\u001b[0m     n\u001b[39m.\u001b[39mappend(i)\n\u001b[0;32m      7\u001b[0m \u001b[39mprint\u001b[39m(\u001b[39mmax\u001b[39m(n))\n\u001b[1;32m----> 8\u001b[0m \u001b[39mprint\u001b[39m(n\u001b[39m.\u001b[39;49mindex(\u001b[39mmax\u001b[39;49m(n)\u001b[39m+\u001b[39;49m\u001b[39m1\u001b[39;49m))\n",
      "\u001b[1;31mValueError\u001b[0m: 133 is not in list"
     ]
    }
   ],
   "source": [
    "# 2562. 최댓값\n",
    "n = []\n",
    "for _ in range(9):\n",
    "    i = int(input())\n",
    "    n.append(i)\n",
    "\n",
    "print(max(n))\n",
    "print(n.index(max(n))+1)\n"
   ]
  },
  {
   "cell_type": "code",
   "execution_count": 12,
   "metadata": {},
   "outputs": [
    {
     "name": "stdout",
     "output_type": "stream",
     "text": [
      "1 2 1 1 0 "
     ]
    }
   ],
   "source": [
    "# 10810. 공 넣기\n",
    "n, m = map(int, input().split())\n",
    "basket = [0]*(n+1)\n",
    "\n",
    "for _ in range(m):\n",
    "    i,j,k = map(int, input().split())\n",
    "    for a in range(i, j+1):\n",
    "        basket[a] = k\n",
    "\n",
    "for i in range(1, n+1):\n",
    "    print(basket[i],end=' ')\n"
   ]
  },
  {
   "cell_type": "code",
   "execution_count": 19,
   "metadata": {},
   "outputs": [
    {
     "name": "stdout",
     "output_type": "stream",
     "text": [
      "3 1 4 2 5\n",
      "3 1 4 2 5\n"
     ]
    }
   ],
   "source": [
    "# 10813. 공 바꾸기\n",
    "n, m = map(int, input().split())\n",
    "\n",
    "# 1번부터 n번 바구니에 있는 공의 번호를 저장하는 리스트 변수 선언\n",
    "box=[str(i+1) for i in range(n)]\n",
    "\n",
    "# m번 교환 반복\n",
    "for _ in range(m):\n",
    "    i,j = map(int, input().split())\n",
    "    box[i-1],box[j-1] = box[j-1], box[i-1]\n",
    "print(' '.join(box))\n",
    "print(*box)"
   ]
  },
  {
   "cell_type": "code",
   "execution_count": 20,
   "metadata": {},
   "outputs": [
    {
     "ename": "ValueError",
     "evalue": "invalid literal for int() with base 10: ''",
     "output_type": "error",
     "traceback": [
      "\u001b[1;31m---------------------------------------------------------------------------\u001b[0m",
      "\u001b[1;31mValueError\u001b[0m                                Traceback (most recent call last)",
      "Cell \u001b[1;32mIn[20], line 5\u001b[0m\n\u001b[0;32m      2\u001b[0m student \u001b[39m=\u001b[39m [i \u001b[39mfor\u001b[39;00m i \u001b[39min\u001b[39;00m \u001b[39mrange\u001b[39m(\u001b[39m1\u001b[39m,\u001b[39m31\u001b[39m)]\n\u001b[0;32m      4\u001b[0m \u001b[39mfor\u001b[39;00m _ \u001b[39min\u001b[39;00m \u001b[39mrange\u001b[39m(\u001b[39m28\u001b[39m):\n\u001b[1;32m----> 5\u001b[0m     data \u001b[39m=\u001b[39m \u001b[39mint\u001b[39;49m(\u001b[39minput\u001b[39;49m())\n\u001b[0;32m      6\u001b[0m     student\u001b[39m.\u001b[39mremove(data)\n\u001b[0;32m      7\u001b[0m \u001b[39mprint\u001b[39m(\u001b[39mmin\u001b[39m(student))\n",
      "\u001b[1;31mValueError\u001b[0m: invalid literal for int() with base 10: ''"
     ]
    }
   ],
   "source": [
    "# 5597. 과제 안내신 분..?\n",
    "student = [i for i in range(1,31)]\n",
    "\n",
    "for _ in range(28):\n",
    "    data = int(input())\n",
    "    student.remove(data)\n",
    "print(min(student))\n",
    "print(max(student))"
   ]
  },
  {
   "cell_type": "code",
   "execution_count": 21,
   "metadata": {},
   "outputs": [
    {
     "ename": "ValueError",
     "evalue": "invalid literal for int() with base 10: ''",
     "output_type": "error",
     "traceback": [
      "\u001b[1;31m---------------------------------------------------------------------------\u001b[0m",
      "\u001b[1;31mValueError\u001b[0m                                Traceback (most recent call last)",
      "Cell \u001b[1;32mIn[21], line 4\u001b[0m\n\u001b[0;32m      2\u001b[0m num \u001b[39m=\u001b[39m []\n\u001b[0;32m      3\u001b[0m \u001b[39mfor\u001b[39;00m i \u001b[39min\u001b[39;00m \u001b[39mrange\u001b[39m(\u001b[39m10\u001b[39m):\n\u001b[1;32m----> 4\u001b[0m     n\u001b[39m=\u001b[39m \u001b[39mint\u001b[39;49m(\u001b[39minput\u001b[39;49m())\n\u001b[0;32m      5\u001b[0m     num\u001b[39m.\u001b[39mappend(n\u001b[39m%\u001b[39m\u001b[39m42\u001b[39m)\n\u001b[0;32m      6\u001b[0m num \u001b[39m=\u001b[39m \u001b[39mset\u001b[39m(num)\n",
      "\u001b[1;31mValueError\u001b[0m: invalid literal for int() with base 10: ''"
     ]
    }
   ],
   "source": [
    "# 3052. 나머지\n",
    "num = []\n",
    "for i in range(10):\n",
    "    n= int(input())\n",
    "    num.append(n%42)\n",
    "num = set(num)\n",
    "print(len(num))"
   ]
  },
  {
   "cell_type": "code",
   "execution_count": 24,
   "metadata": {},
   "outputs": [
    {
     "name": "stdout",
     "output_type": "stream",
     "text": [
      "3 4 1 2 5 "
     ]
    }
   ],
   "source": [
    "# 10811. 바구니 뒤집기\n",
    "n,m = map(int,input().split())\n",
    "box = [i+1 for i in range(n)]\n",
    "for _ in range(m):\n",
    "    i,j = map(int, input().split())\n",
    "    box = box[:i-1] + box[i-1:j][::-1] + box[j:]\n",
    "for i in box:\n",
    "    print(i,end=' ')"
   ]
  },
  {
   "cell_type": "code",
   "execution_count": null,
   "metadata": {},
   "outputs": [],
   "source": [
    "# 1546. 평균\n",
    "n = int(input())  # 과목 수\n",
    "test_list = list(map(int, input().split()))\n",
    "max_score = max(test_list)\n",
    "\n",
    "new_list = []\n",
    "for score in test_list :\n",
    "    new_list.append(score/max_score *100)  # 새로운 점수 생성\n",
    "test_avg = sum(new_list)/n\n",
    "print(test_avg)"
   ]
  }
 ],
 "metadata": {
  "kernelspec": {
   "display_name": "ml",
   "language": "python",
   "name": "python3"
  },
  "language_info": {
   "codemirror_mode": {
    "name": "ipython",
    "version": 3
   },
   "file_extension": ".py",
   "mimetype": "text/x-python",
   "name": "python",
   "nbconvert_exporter": "python",
   "pygments_lexer": "ipython3",
   "version": "3.9.15"
  },
  "orig_nbformat": 4
 },
 "nbformat": 4,
 "nbformat_minor": 2
}
