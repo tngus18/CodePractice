{
 "cells": [
  {
   "cell_type": "code",
   "execution_count": 3,
   "metadata": {},
   "outputs": [
    {
     "name": "stdout",
     "output_type": "stream",
     "text": [
      "10\n",
      "0\n"
     ]
    }
   ],
   "source": [
    "# 1271. 엄청난 부자\n",
    "\n",
    "n, m = map(int, input().split())\n",
    "print(n//m)\n",
    "print(n%m)"
   ]
  },
  {
   "cell_type": "code",
   "execution_count": 5,
   "metadata": {},
   "outputs": [
    {
     "name": "stdout",
     "output_type": "stream",
     "text": [
      "0\n",
      "2\n",
      "-1\n"
     ]
    }
   ],
   "source": [
    "# 2338. 긴자리 계산\n",
    "a = int(input())\n",
    "b = int(input())\n",
    "\n",
    "print(a+b)\n",
    "print(a-b)\n",
    "print(a*b)"
   ]
  },
  {
   "cell_type": "code",
   "execution_count": 8,
   "metadata": {},
   "outputs": [
    {
     "name": "stdout",
     "output_type": "stream",
     "text": [
      "7\n",
      "7\n",
      "7\n",
      "7\n"
     ]
    }
   ],
   "source": [
    "# 1264. 모음의 개수\n",
    "\n",
    "while True:\n",
    "    s = input()\n",
    "    if s == '#':\n",
    "        break\n",
    "    cnt = 0\n",
    "    for i in s:\n",
    "        if i in \"aeiouAEIOU\":\n",
    "            cnt += 1\n",
    "    print(cnt)"
   ]
  },
  {
   "cell_type": "code",
   "execution_count": 12,
   "metadata": {},
   "outputs": [
    {
     "name": "stdout",
     "output_type": "stream",
     "text": [
      "Joe Junior\n"
     ]
    }
   ],
   "source": [
    "# 2083. 럭비 클럽\n",
    "while True:\n",
    "    name, age, weight = input().split()\n",
    "    if '#' in name:\n",
    "        break\n",
    "    if int(age)> 17 or int(weight) >= 80:\n",
    "        print(f\"{name} Senior\")\n",
    "    else:\n",
    "        print(f\"{name} Junior\")"
   ]
  },
  {
   "cell_type": "code",
   "execution_count": 21,
   "metadata": {},
   "outputs": [
    {
     "name": "stdout",
     "output_type": "stream",
     "text": [
      "*****\n",
      "****\n",
      "***\n",
      "**\n",
      "*\n"
     ]
    }
   ],
   "source": [
    "# 2440. 별 찍기 -3\n",
    "n = int(input())\n",
    "\n",
    "for i in range(1,n+1):\n",
    "    print('*'*(n-i+1))"
   ]
  },
  {
   "cell_type": "code",
   "execution_count": 22,
   "metadata": {},
   "outputs": [
    {
     "name": "stdout",
     "output_type": "stream",
     "text": [
      "14 35 0\n"
     ]
    }
   ],
   "source": [
    "# 2530. 인공지능 시계\n",
    "h, m, s = map(int, input().split())\n",
    "d = int(input())\n",
    "\n",
    "s += d%60\n",
    "d = d //60\n",
    "if s>= 60:\n",
    "    s -= 60\n",
    "    m += 1\n",
    "m += d%60\n",
    "d = d//60\n",
    "if m >= 60:\n",
    "    m -= 60\n",
    "    h += 1\n",
    "h+=d%24\n",
    "if h >= 24:\n",
    "    h -= 24\n",
    "print(h,m,s)"
   ]
  },
  {
   "cell_type": "code",
   "execution_count": 27,
   "metadata": {},
   "outputs": [
    {
     "name": "stdout",
     "output_type": "stream",
     "text": [
      "5\n",
      "4\n",
      "3\n",
      "2\n",
      "1\n"
     ]
    }
   ],
   "source": [
    "# 2742. 기찍 N\n",
    "n = int(input())\n",
    "for i in range(1,n+1):\n",
    "    print(n-i+1)"
   ]
  },
  {
   "cell_type": "code",
   "execution_count": 35,
   "metadata": {},
   "outputs": [
    {
     "name": "stdout",
     "output_type": "stream",
     "text": [
      "1 6 7\n"
     ]
    }
   ],
   "source": [
    "# 2752. 세수정렬\n",
    "a =list(map(int, input().split()))\n",
    "a.sort()\n",
    "\n",
    "print(a[0],a[1],a[2])"
   ]
  },
  {
   "cell_type": "code",
   "execution_count": 11,
   "metadata": {},
   "outputs": [
    {
     "name": "stdout",
     "output_type": "stream",
     "text": [
      "-1 1 900 -100 -3 "
     ]
    }
   ],
   "source": [
    "# 2845. 파티가 끝나고 난 뒤\n",
    "l, p = map(int, input().split())\n",
    "a= list(map(int, input().split()))\n",
    "\n",
    "for i in a:\n",
    "    print(i-(l*p), end=' ')"
   ]
  },
  {
   "cell_type": "code",
   "execution_count": null,
   "metadata": {},
   "outputs": [],
   "source": [
    "# 3046. R^2\n",
    "\n",
    "a, s = map(int, input().split())\n",
    "print(2*s-a)"
   ]
  },
  {
   "cell_type": "code",
   "execution_count": null,
   "metadata": {},
   "outputs": [],
   "source": [
    "# 4299. AFC 윔블던\n",
    "a, b = map(int, input().split())\n",
    "if a+b < 0 or a-b < 0 or (a+b)%2:\n",
    "    print(-1)\n",
    "else:\n",
    "    x = (a+b)//2\n",
    "    y = a-x\n",
    "    print(max(x,y),min(x,y))"
   ]
  },
  {
   "cell_type": "code",
   "execution_count": 13,
   "metadata": {},
   "outputs": [
    {
     "name": "stdout",
     "output_type": "stream",
     "text": [
      "1. Fido\n",
      "2. Fido\n",
      "3. \n",
      "4. \n",
      "5. \n"
     ]
    }
   ],
   "source": [
    "# 4470. 줄번호\n",
    "n = int(input())\n",
    "for i in range(1,n+1):\n",
    "    a = input()\n",
    "    print('{0}. {1}'.format(i,a))"
   ]
  },
  {
   "cell_type": "code",
   "execution_count": 15,
   "metadata": {},
   "outputs": [
    {
     "ename": "ValueError",
     "evalue": "invalid literal for int() with base 10: ''",
     "output_type": "error",
     "traceback": [
      "\u001b[1;31m---------------------------------------------------------------------------\u001b[0m",
      "\u001b[1;31mValueError\u001b[0m                                Traceback (most recent call last)",
      "Cell \u001b[1;32mIn[15], line 2\u001b[0m\n\u001b[0;32m      1\u001b[0m \u001b[39m# 5524. 입실관리\u001b[39;00m\n\u001b[1;32m----> 2\u001b[0m n \u001b[39m=\u001b[39m \u001b[39mint\u001b[39;49m(\u001b[39minput\u001b[39;49m())\n\u001b[0;32m      3\u001b[0m n \u001b[39m<\u001b[39m \u001b[39m10\u001b[39m\n\u001b[0;32m      4\u001b[0m \u001b[39mfor\u001b[39;00m i \u001b[39min\u001b[39;00m \u001b[39mrange\u001b[39m(\u001b[39m1\u001b[39m,n\u001b[39m+\u001b[39m\u001b[39m1\u001b[39m):\n",
      "\u001b[1;31mValueError\u001b[0m: invalid literal for int() with base 10: ''"
     ]
    }
   ],
   "source": [
    "# 5524. 입실관리\n",
    "n = int(input())\n",
    "n < 10\n",
    "for i in range(1,n+1):\n",
    "    a = input()\n",
    "    print(a.lower())"
   ]
  },
  {
   "cell_type": "code",
   "execution_count": null,
   "metadata": {},
   "outputs": [],
   "source": []
  }
 ],
 "metadata": {
  "kernelspec": {
   "display_name": "ml",
   "language": "python",
   "name": "python3"
  },
  "language_info": {
   "codemirror_mode": {
    "name": "ipython",
    "version": 3
   },
   "file_extension": ".py",
   "mimetype": "text/x-python",
   "name": "python",
   "nbconvert_exporter": "python",
   "pygments_lexer": "ipython3",
   "version": "3.9.15"
  },
  "orig_nbformat": 4
 },
 "nbformat": 4,
 "nbformat_minor": 2
}
