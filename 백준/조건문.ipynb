{
 "cells": [
  {
   "cell_type": "code",
   "execution_count": 2,
   "metadata": {},
   "outputs": [
    {
     "name": "stdout",
     "output_type": "stream",
     "text": [
      "=\n"
     ]
    }
   ],
   "source": [
    "#1330. 두 수 비교하기\n",
    "a,b = map(int, input().split())\n",
    "\n",
    "if a>b :\n",
    "    print ('>')\n",
    "elif a<b :\n",
    "    print('<')\n",
    "else :\n",
    "    print('==')\n",
    "\n",
    "    "
   ]
  },
  {
   "cell_type": "code",
   "execution_count": 4,
   "metadata": {},
   "outputs": [
    {
     "name": "stdout",
     "output_type": "stream",
     "text": [
      "F\n"
     ]
    }
   ],
   "source": [
    "# 9498. 시험 성적\n",
    "a = int(input())\n",
    "if 90 <= a <=100 :\n",
    "    print ('A')\n",
    "elif 80<= a <=89 :\n",
    "    print ('B')\n",
    "elif 70 <= a <= 79 :\n",
    "    print('C')\n",
    "elif 60<= a <= 69 :\n",
    "    print('D')\n",
    "else : \n",
    "    print('F')\n",
    "\n",
    "# 숏코딩\n",
    "print(\"FFFFFFDCBAA\"[int(input())//10])"
   ]
  },
  {
   "cell_type": "code",
   "execution_count": 10,
   "metadata": {},
   "outputs": [
    {
     "name": "stdout",
     "output_type": "stream",
     "text": [
      "0\n"
     ]
    }
   ],
   "source": [
    "# 2753. 윤년\n",
    "a = int(input())\n",
    "\n",
    "if a%4 == 0 and (a%100 != 0 or a%400 == 0):\n",
    "    print('1')\n",
    "else :\n",
    "    print('0')"
   ]
  },
  {
   "cell_type": "code",
   "execution_count": 19,
   "metadata": {},
   "outputs": [
    {
     "name": "stdout",
     "output_type": "stream",
     "text": [
      "4\n"
     ]
    }
   ],
   "source": [
    "# 14691. 사분면 고르기\n",
    "x = int(input())\n",
    "y = int(input())\n",
    "\n",
    "if x > 0 and y > 0 :\n",
    "    print(1)\n",
    "elif x < 0 and y > 0 :\n",
    "    print(2)\n",
    "elif x < 0 and y < 0:\n",
    "    print(3)\n",
    "elif x > 0 and y < 0:\n",
    "    print(4)\n"
   ]
  },
  {
   "cell_type": "code",
   "execution_count": 21,
   "metadata": {},
   "outputs": [
    {
     "name": "stdout",
     "output_type": "stream",
     "text": [
      "10 26\n"
     ]
    }
   ],
   "source": [
    "# 2884. 알람 시계\n",
    "H, M = map(int, input().split())\n",
    "if M > 44:\n",
    "    print( H, M-45)\n",
    "elif M<45 and H>0:\n",
    "    print(H-1, M+15)\n",
    "else : \n",
    "    print(23, M+15)"
   ]
  },
  {
   "cell_type": "code",
   "execution_count": 24,
   "metadata": {},
   "outputs": [
    {
     "name": "stdout",
     "output_type": "stream",
     "text": [
      "16 30\n"
     ]
    }
   ],
   "source": [
    "# 2525. 오븐 시계\n",
    "A, B = map(int, input().split())\n",
    "C = int(input())\n",
    "\n",
    "hours = (A+((B+C)//60)) % 24\n",
    "minutes = (B+C)%60\n",
    "print(hours, minutes) "
   ]
  },
  {
   "cell_type": "code",
   "execution_count": 25,
   "metadata": {},
   "outputs": [
    {
     "name": "stdout",
     "output_type": "stream",
     "text": [
      "1300\n"
     ]
    }
   ],
   "source": [
    "# 2480. 주사위 세개\n",
    "a, b, c = map(int, input().split())\n",
    "\n",
    "if (a == b == c):\n",
    "    print(10000+(a*1000))\n",
    "elif a == b:\n",
    "    print(1000+a*100)\n",
    "elif a == c:\n",
    "    print(1000+a*100)\n",
    "elif b == c:\n",
    "    print(1000+b*100)\n",
    "else :\n",
    "    print (100*max(a,b,c))"
   ]
  },
  {
   "cell_type": "code",
   "execution_count": null,
   "metadata": {},
   "outputs": [],
   "source": []
  }
 ],
 "metadata": {
  "kernelspec": {
   "display_name": "ml",
   "language": "python",
   "name": "python3"
  },
  "language_info": {
   "codemirror_mode": {
    "name": "ipython",
    "version": 3
   },
   "file_extension": ".py",
   "mimetype": "text/x-python",
   "name": "python",
   "nbconvert_exporter": "python",
   "pygments_lexer": "ipython3",
   "version": "3.9.15"
  },
  "orig_nbformat": 4
 },
 "nbformat": 4,
 "nbformat_minor": 2
}
