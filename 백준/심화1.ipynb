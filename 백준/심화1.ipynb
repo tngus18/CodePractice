{
 "cells": [
  {
   "cell_type": "code",
   "execution_count": 10,
   "metadata": {},
   "outputs": [
    {
     "name": "stdout",
     "output_type": "stream",
     "text": [
      "         ,r'\"7\n",
      "r`-_   ,'  ,/\n",
      " \\. \". L_r'\n",
      "   `~\\/\n",
      "      |\n",
      "      |\n"
     ]
    }
   ],
   "source": [
    "# 25083. 새싹\n",
    "print(\"         ,r'\\\"7\")\n",
    "print(\"r`-_   ,'  ,/\")\n",
    "print(\" \\\\. \\\". L_r'\")\n",
    "print(\"   `~\\\\/\")\n",
    "print(\"      |\")\n",
    "print(\"      |\")"
   ]
  },
  {
   "cell_type": "code",
   "execution_count": 12,
   "metadata": {},
   "outputs": [
    {
     "name": "stdout",
     "output_type": "stream",
     "text": [
      "-1 0 0 1 0 7\n"
     ]
    }
   ],
   "source": [
    "# 3003. 킹, 퀸, 룩, 비숍, 나이트, 폰\n",
    "k, q, l, b, n, p = map(int, input().split())\n",
    "\n",
    "print(1-k, 1-q, 2-l, 2-b, 2-n, 8-p)"
   ]
  },
  {
   "cell_type": "code",
   "execution_count": 34,
   "metadata": {},
   "outputs": [
    {
     "name": "stdout",
     "output_type": "stream",
     "text": [
      "    *\n",
      "   ***\n",
      "  *****\n",
      " *******\n",
      "*********\n",
      " *******\n",
      "  *****\n",
      "   ***\n",
      "    *\n"
     ]
    }
   ],
   "source": [
    "# 2444. 별 찍기 -7\n",
    "a = int(input())\n",
    "\n",
    "for i in range(1,a+1):\n",
    "    print(' '*(a-i)+'*'*(2*i-1))\n",
    "for j in range(a-1,0,-1):\n",
    "    print(' '*(a-j)+'*'*(2*j-1))"
   ]
  },
  {
   "cell_type": "code",
   "execution_count": 39,
   "metadata": {},
   "outputs": [
    {
     "name": "stdout",
     "output_type": "stream",
     "text": [
      "    *\n",
      "   ***\n",
      "  *****\n",
      " *******\n",
      "*********\n"
     ]
    }
   ],
   "source": [
    "a = int(input())\n",
    "for i in range(1,2*a,2):\n",
    "    print(' '*((2*a-i)//2)+'*'*i)\n",
    "for j in range(2*a-1,0,2):\n",
    "    print(' '*((2*a-j)//2)+'*'*j)"
   ]
  },
  {
   "cell_type": "code",
   "execution_count": 1,
   "metadata": {},
   "outputs": [
    {
     "name": "stdout",
     "output_type": "stream",
     "text": [
      "1 4 6 2 3 7 10 5 8 9\n"
     ]
    }
   ],
   "source": [
    "# 10812. 바구니 순서 바꾸기 re\n",
    "n, m = map(int, input().split())\n",
    "l = [i+1 for i in range(n)]\n",
    "for _ in range(m):\n",
    "    i,j,k = map(int, input().split())\n",
    "    l[i-1:j] = l[k-1:j]+l[i-1:k-1]\n",
    "print(*l)"
   ]
  },
  {
   "cell_type": "code",
   "execution_count": null,
   "metadata": {},
   "outputs": [],
   "source": [
    "import sys\n",
    "\n",
    "input = lambda: sys.stdin.readline().rstrip()\n",
    "\n",
    "N, M = map(int, input().split())\n",
    "buckets = [i for i in range(1, N+1)]\n",
    "\n",
    "for _ in range(M):\n",
    "    i, j, k = map(int, input().split())\n",
    "    i, j, k = i-1, j-1, k-1\n",
    "    buckets = buckets[:i] + buckets[k:j+1] + buckets[i:k] + buckets[j+1:]\n",
    "    \n",
    "print(*buckets)"
   ]
  },
  {
   "cell_type": "code",
   "execution_count": 8,
   "metadata": {},
   "outputs": [
    {
     "name": "stdout",
     "output_type": "stream",
     "text": [
      "0\n"
     ]
    }
   ],
   "source": [
    "# 10988. 팰린드롬인지 확인하기\n",
    "a =input()\n",
    "\n",
    "if a == a[::-1] :\n",
    "    print(1)\n",
    "else:\n",
    "    print(0)"
   ]
  },
  {
   "cell_type": "code",
   "execution_count": 6,
   "metadata": {},
   "outputs": [
    {
     "name": "stdout",
     "output_type": "stream",
     "text": [
      "lever\n"
     ]
    }
   ],
   "source": [
    "a = 'revel'\n",
    "print(a[::-1])"
   ]
  },
  {
   "cell_type": "code",
   "execution_count": 19,
   "metadata": {},
   "outputs": [
    {
     "name": "stdout",
     "output_type": "stream",
     "text": [
      "S\n"
     ]
    }
   ],
   "source": [
    "# 1157. 단어공부 re\n",
    "a = input().lower()\n",
    "a_list = list(set(a))\n",
    "b = []\n",
    "\n",
    "for i in a_list:\n",
    "    count = a.count(i)\n",
    "    b.append(count)\n",
    "if b.count(max(b)) > 1:\n",
    "    print('?')\n",
    "else:\n",
    "    print(a_list[(b.index(max(b)))].upper())\n"
   ]
  },
  {
   "cell_type": "code",
   "execution_count": 6,
   "metadata": {},
   "outputs": [
    {
     "name": "stdout",
     "output_type": "stream",
     "text": [
      "D\n"
     ]
    }
   ],
   "source": [
    "a =input()\n",
    "a_list = list(set(a))\n",
    "b = []\n",
    "\n",
    "for i in a_list:\n",
    "    count = a.count(i)\n",
    "    b.append(count)\n",
    "if b.count(max(b)) > 1:\n",
    "    print('?')\n",
    "else:\n",
    "    print(a_list[b.index(max(b))].upper())"
   ]
  },
  {
   "cell_type": "code",
   "execution_count": 2,
   "metadata": {},
   "outputs": [
    {
     "name": "stdout",
     "output_type": "stream",
     "text": [
      "55.556%\n",
      "55.556%\n"
     ]
    },
    {
     "ename": "IndexError",
     "evalue": "list index out of range",
     "output_type": "error",
     "traceback": [
      "\u001b[1;31m---------------------------------------------------------------------------\u001b[0m",
      "\u001b[1;31mIndexError\u001b[0m                                Traceback (most recent call last)",
      "Cell \u001b[1;32mIn[2], line 6\u001b[0m\n\u001b[0;32m      4\u001b[0m \u001b[39mfor\u001b[39;00m _ \u001b[39min\u001b[39;00m \u001b[39mrange\u001b[39m(c):\n\u001b[0;32m      5\u001b[0m     nums \u001b[39m=\u001b[39m\u001b[39mlist\u001b[39m(\u001b[39mmap\u001b[39m(\u001b[39mint\u001b[39m,\u001b[39minput\u001b[39m()\u001b[39m.\u001b[39msplit()))\n\u001b[1;32m----> 6\u001b[0m     avg \u001b[39m=\u001b[39m \u001b[39msum\u001b[39m(nums[\u001b[39m1\u001b[39m:])\u001b[39m/\u001b[39mnums[\u001b[39m0\u001b[39;49m]\n\u001b[0;32m      8\u001b[0m     cnt \u001b[39m=\u001b[39m \u001b[39m0\u001b[39m\n\u001b[0;32m      9\u001b[0m     \u001b[39mfor\u001b[39;00m j \u001b[39min\u001b[39;00m nums[\u001b[39m1\u001b[39m:]:\n",
      "\u001b[1;31mIndexError\u001b[0m: list index out of range"
     ]
    }
   ],
   "source": [
    "# 4344. 평균은 넘겠지\n",
    "c = int(input())\n",
    "\n",
    "for _ in range(c):\n",
    "    nums =list(map(int,input().split()))\n",
    "    avg = sum(nums[1:])/nums[0]\n",
    "\n",
    "    cnt = 0\n",
    "    for j in nums[1:]:\n",
    "        if j > avg:\n",
    "            cnt += 1\n",
    "\n",
    "    rate = cnt/nums[0] * 100\n",
    "    print(f'{rate:0.3f}%')\n"
   ]
  },
  {
   "cell_type": "code",
   "execution_count": null,
   "metadata": {},
   "outputs": [],
   "source": [
    "c = int(input())\n",
    "for _ in range(c):\n",
    "    nums = list(map(int, input().split()))\n",
    "    avg = sum(nums[1:])/nums[0]\n",
    "\n",
    "    cnt = 0\n",
    "    for i in nums[1:]:\n",
    "        if i > avg:\n",
    "            cnt +=1 \n",
    "    rate = cnt/nums[0]*100\n",
    "    print(f'{rate:0.3f}%')"
   ]
  },
  {
   "cell_type": "code",
   "execution_count": 8,
   "metadata": {},
   "outputs": [
    {
     "name": "stdout",
     "output_type": "stream",
     "text": [
      "6\n"
     ]
    }
   ],
   "source": [
    "# 2941. 크로아티아 알파벳\n",
    "croatia = ['c=','c-','dz=','d-','lj','nj','s=','z=']\n",
    "word = input()\n",
    "\n",
    "for i in croatia:\n",
    "    word = word.replace(i,'*')\n",
    "print(len(word))"
   ]
  },
  {
   "cell_type": "code",
   "execution_count": null,
   "metadata": {},
   "outputs": [],
   "source": [
    "# 1316. 그룹 단어 체커\n",
    "\n"
   ]
  }
 ],
 "metadata": {
  "kernelspec": {
   "display_name": "ml",
   "language": "python",
   "name": "python3"
  },
  "language_info": {
   "codemirror_mode": {
    "name": "ipython",
    "version": 3
   },
   "file_extension": ".py",
   "mimetype": "text/x-python",
   "name": "python",
   "nbconvert_exporter": "python",
   "pygments_lexer": "ipython3",
   "version": "3.9.15"
  },
  "orig_nbformat": 4
 },
 "nbformat": 4,
 "nbformat_minor": 2
}
