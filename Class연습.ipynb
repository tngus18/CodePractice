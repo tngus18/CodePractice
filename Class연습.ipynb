{
 "cells": [
  {
   "cell_type": "code",
   "execution_count": 101,
   "metadata": {},
   "outputs": [
    {
     "data": {
      "text/plain": [
       "<bound method Account.withdraw_history of <__main__.Account object at 0x0000027E583B24F0>>"
      ]
     },
     "execution_count": 101,
     "metadata": {},
     "output_type": "execute_result"
    }
   ],
   "source": []
  },
  {
   "cell_type": "code",
   "execution_count": 106,
   "metadata": {},
   "outputs": [
    {
     "name": "stdout",
     "output_type": "stream",
     "text": [
      "2\n",
      "4\n",
      "6\n",
      "8\n"
     ]
    }
   ],
   "source": [
    "class Calculator : \n",
    "    def __init__(self):\n",
    "        self.result = 0\n",
    "\n",
    "    def add(self, num):\n",
    "        self.result += num\n",
    "        return self.result\n",
    "    def sub(self,num):\n",
    "        self.result -= num\n",
    "        return self.result\n",
    "    \n",
    "cal1 = Calculator()\n",
    "cal2 = Calculator()\n",
    "\n",
    "print(cal1.add(2))\n",
    "print(cal1.add(2))\n",
    "print(cal1.add(2))\n",
    "print(cal1.add(2))"
   ]
  },
  {
   "cell_type": "code",
   "execution_count": 110,
   "metadata": {},
   "outputs": [
    {
     "name": "stdout",
     "output_type": "stream",
     "text": [
      "응애응애\n"
     ]
    },
    {
     "data": {
      "text/plain": [
       "<__main__.Human at 0x27e58424460>"
      ]
     },
     "execution_count": 110,
     "metadata": {},
     "output_type": "execute_result"
    }
   ],
   "source": [
    "class Human:\n",
    "    def __init__(self):\n",
    "        self.human = human\n",
    "        print('응애응애')\n",
    "Human()"
   ]
  },
  {
   "cell_type": "code",
   "execution_count": 144,
   "metadata": {},
   "outputs": [
    {
     "name": "stdout",
     "output_type": "stream",
     "text": [
      "[<__main__.Account object at 0x0000027E58555520>, <__main__.Account object at 0x0000027E58555280>, <__main__.Account object at 0x0000027E58555970>]\n"
     ]
    }
   ],
   "source": [
    "import random\n",
    "\n",
    "class Account:\n",
    "\n",
    "    account = 0\n",
    "    \n",
    "\n",
    "    def __init__(self, name, balance):\n",
    "        self.deposit_count = 0\n",
    "\n",
    "        self.name = name\n",
    "        self.balance = balance\n",
    "        self.bank = 'SC은행'\n",
    "        \n",
    "        \n",
    "        num1 = str(random.randint(0,999)).zfill(3)\n",
    "        num2 = str(random.randint(0,99)).zfill(2)\n",
    "        num3 = str(random.randint(0,999999)).zfill(6)\n",
    "\n",
    "        self.bankaccount = num1 + '-' + num2 + '-' + num3\n",
    "\n",
    "        Account.account += 1\n",
    "    \n",
    "    def get_account_num(self):\n",
    "        print(Account.account)\n",
    "\n",
    "    def deposit(self, money):\n",
    "        if money >= 1:\n",
    "            self.balance += money\n",
    "\n",
    "            self.deposit_count += 1\n",
    "            if self.deposit_count % 5 == 0:\n",
    "                self.balance = self.balance*1.01\n",
    "\n",
    "    def withdraw(self, money):\n",
    "        if self.balance > money:\n",
    "            self.balance -= money\n",
    "    \n",
    "    def display_info(self):\n",
    "        print('은행이름:', self.bank)\n",
    "        print('예금주:', self.name)\n",
    "        print('계좌번호:', self.bankaccount)\n",
    "        print('잔고:', f\"{self.balance:,}\")\n",
    "\n",
    "data = []\n",
    "a = Account('김',100000)\n",
    "b = Account('박', 200000)\n",
    "c = Account('최', 300000)\n",
    "\n",
    "data.append(a)\n",
    "data.append(b)\n",
    "data.append(c)\n",
    "print(data)\n",
    "\n",
    "for i in data:\n",
    "    if i.balance >= 1000000:\n",
    "        i.display_info()"
   ]
  },
  {
   "cell_type": "code",
   "execution_count": 132,
   "metadata": {},
   "outputs": [
    {
     "name": "stdout",
     "output_type": "stream",
     "text": [
      "김\n",
      "903-31-245793\n",
      "1\n",
      "1\n",
      "은행이름: SC은행\n",
      "예금주: b\n",
      "계좌번호: 974-01-381154\n",
      "잔고: 1000000\n"
     ]
    }
   ],
   "source": [
    "a = Account('김',200)\n",
    "print(a.name)\n",
    "print(a.bankaccount)\n",
    "print(Account.account)\n",
    "a.get_account_num()\n",
    "b = Account('b',1000000)\n",
    "b.display_info()"
   ]
  },
  {
   "cell_type": "code",
   "execution_count": 152,
   "metadata": {},
   "outputs": [
    {
     "ename": "SyntaxError",
     "evalue": "invalid syntax (674885323.py, line 8)",
     "output_type": "error",
     "traceback": [
      "\u001b[1;36m  Cell \u001b[1;32mIn[152], line 8\u001b[1;36m\u001b[0m\n\u001b[1;33m    def __init__(self, )\u001b[0m\n\u001b[1;37m                        ^\u001b[0m\n\u001b[1;31mSyntaxError\u001b[0m\u001b[1;31m:\u001b[0m invalid syntax\n"
     ]
    }
   ],
   "source": [
    "# readline_test.py\n",
    "f = open(r\"C:\\Users\\user\\Desktop\\CodePractice\\1.txt - 바로 가기.lnk.txt\", 'r')\n",
    "line = f.readline()\n",
    "print(line)\n",
    "f.close()\n",
    "\n",
    "class Document:\n",
    "    def __init__(self,) "
   ]
  },
  {
   "attachments": {},
   "cell_type": "markdown",
   "metadata": {},
   "source": []
  },
  {
   "cell_type": "code",
   "execution_count": 158,
   "metadata": {},
   "outputs": [
    {
     "name": "stdout",
     "output_type": "stream",
     "text": [
      "0\n"
     ]
    }
   ],
   "source": [
    "# readline_test.py\n",
    "import collections\n",
    "\n",
    "\n",
    "# f = open(r\"C:\\Users\\user\\Desktop\\CodePractice\\1.txt - 바로 가기.lnk.txt\", 'r')\n",
    "# line = f.readline()\n",
    "# print(line)\n",
    "# f.close()\n",
    "\n",
    "if __name__=='__main__':\n",
    "    # readline_test.py\n",
    "    f = \"aaaa\"\n",
    "\n",
    "    counter = collections.Counter(f)\n",
    "    f = counter['A']\n",
    "    print(f)"
   ]
  },
  {
   "attachments": {},
   "cell_type": "markdown",
   "metadata": {},
   "source": [
    "df_dict len : 7\n",
    "   A : 2\n",
    "   B : 2\n",
    "   C : 2\n",
    "   D : 1\n",
    "   E : 2\n",
    "   F : 1\n",
    "   G : 1\n",
    "\n",
    "doc_id : 1\n",
    "   A : 1\n",
    "   B : 1\n",
    "   C : 1\n",
    "   D : 1\n",
    "   E : 1\n",
    "   F : 1\n",
    "   G : 1\n",
    "\n",
    "doc_id : 2\n",
    "   A : 1\n",
    "   B : 2\n",
    "   C : 2\n",
    "   E : 1"
   ]
  },
  {
   "cell_type": "code",
   "execution_count": 206,
   "metadata": {},
   "outputs": [
    {
     "name": "stdout",
     "output_type": "stream",
     "text": [
      "   A B C\n",
      "0  B C E\n"
     ]
    }
   ],
   "source": [
    "import pandas as pd\n",
    "file = pd.read_csv(r\"C:\\Users\\user\\Desktop\\멘토링\\1.txt\")\n",
    "print(file)\n",
    "\n",
    "class Document:\n",
    "    def __init__(self, tf):\n",
    "        doc_id = 0\n",
    "        self.txt = file\n",
    "        self.tf_dict = {}\n",
    "\n",
    "        Document.doc_id += 1\n",
    "    "
   ]
  },
  {
   "attachments": {},
   "cell_type": "markdown",
   "metadata": {},
   "source": [
    "- init 안에 뭐가 들어가야 하는지 잘 모르겠음. 초기화 시켜줄 값을 넣어야 한다는 것은 알겟는데 여기다가 어떤값을 설정시켜야 하는지 모르겠어!!!\n",
    "- count를 해줄 dict에 넣어서 += 1\n",
    "- split('')\n",
    "- for i in range file"
   ]
  },
  {
   "cell_type": "code",
   "execution_count": 218,
   "metadata": {},
   "outputs": [
    {
     "name": "stdout",
     "output_type": "stream",
     "text": [
      "   A B C\n",
      "0  B C E\n",
      "<class 'pandas.core.frame.DataFrame'>\n"
     ]
    },
    {
     "data": {
      "text/plain": [
       "['A B C']"
      ]
     },
     "execution_count": 218,
     "metadata": {},
     "output_type": "execute_result"
    }
   ],
   "source": [
    "import pandas as pd\n",
    "file = pd.read_csv(r\"C:\\Users\\user\\Desktop\\멘토링\\1.txt\")\n",
    "print(file)\n",
    "print(type(file))\n",
    "for i in file:\n",
    "    a = []\n",
    "    a.append(i)\n",
    "a"
   ]
  },
  {
   "cell_type": "code",
   "execution_count": 216,
   "metadata": {},
   "outputs": [
    {
     "name": "stdout",
     "output_type": "stream",
     "text": [
      "A B C\n"
     ]
    },
    {
     "ename": "TypeError",
     "evalue": "list indices must be integers or slices, not str",
     "output_type": "error",
     "traceback": [
      "\u001b[1;31m---------------------------------------------------------------------------\u001b[0m",
      "\u001b[1;31mTypeError\u001b[0m                                 Traceback (most recent call last)",
      "Cell \u001b[1;32mIn[216], line 8\u001b[0m\n\u001b[0;32m      6\u001b[0m     file_dict[i] \u001b[39m+\u001b[39m\u001b[39m=\u001b[39m \u001b[39m1\u001b[39m\n\u001b[0;32m      7\u001b[0m \u001b[39melse\u001b[39;00m:\n\u001b[1;32m----> 8\u001b[0m     file_dict[i] \u001b[39m=\u001b[39m \u001b[39m1\u001b[39m\n",
      "\u001b[1;31mTypeError\u001b[0m: list indices must be integers or slices, not str"
     ]
    }
   ],
   "source": [
    "file_dict = []\n",
    "for i in file:\n",
    "\n",
    "    print(i)\n",
    "    if i in file_dict:\n",
    "        file_dict[i] += 1\n",
    "    else:\n",
    "        file_dict[i] = 1"
   ]
  },
  {
   "cell_type": "code",
   "execution_count": null,
   "metadata": {},
   "outputs": [],
   "source": []
  },
  {
   "cell_type": "code",
   "execution_count": null,
   "metadata": {},
   "outputs": [],
   "source": []
  }
 ],
 "metadata": {
  "kernelspec": {
   "display_name": "ml",
   "language": "python",
   "name": "python3"
  },
  "language_info": {
   "codemirror_mode": {
    "name": "ipython",
    "version": 3
   },
   "file_extension": ".py",
   "mimetype": "text/x-python",
   "name": "python",
   "nbconvert_exporter": "python",
   "pygments_lexer": "ipython3",
   "version": "3.9.15"
  },
  "orig_nbformat": 4
 },
 "nbformat": 4,
 "nbformat_minor": 2
}
